{
 "cells": [
  {
   "cell_type": "code",
   "execution_count": 88,
   "id": "fcddf3d7-88bc-4d82-9b8b-83823774bbc7",
   "metadata": {},
   "outputs": [],
   "source": [
    "import numpy as np\n",
    "import pandas as pd\n",
    "import matplotlib.pyplot as plt\n",
    "import seaborn as sns\n",
    "from sklearn.model_selection import train_test_split\n",
    "from sklearn.ensemble import RandomForestRegressor"
   ]
  },
  {
   "cell_type": "code",
   "execution_count": 89,
   "id": "b2b2bd0b-50ec-4ccc-8851-5ea5625052c0",
   "metadata": {},
   "outputs": [],
   "source": [
    "df=pd.read_csv('crop_production.csv')"
   ]
  },
  {
   "cell_type": "code",
   "execution_count": 90,
   "id": "168db0b5-86d1-45c2-8bee-955e33fb6462",
   "metadata": {},
   "outputs": [
    {
     "name": "stdout",
     "output_type": "stream",
     "text": [
      "<class 'pandas.core.frame.DataFrame'>\n",
      "RangeIndex: 246091 entries, 0 to 246090\n",
      "Data columns (total 7 columns):\n",
      " #   Column         Non-Null Count   Dtype  \n",
      "---  ------         --------------   -----  \n",
      " 0   State_Name     246091 non-null  object \n",
      " 1   District_Name  246091 non-null  object \n",
      " 2   Crop_Year      246091 non-null  int64  \n",
      " 3   Season         246091 non-null  object \n",
      " 4   Crop           246091 non-null  object \n",
      " 5   Area           246091 non-null  float64\n",
      " 6   Production     242361 non-null  float64\n",
      "dtypes: float64(2), int64(1), object(4)\n",
      "memory usage: 13.1+ MB\n"
     ]
    }
   ],
   "source": [
    "df.info()"
   ]
  },
  {
   "cell_type": "code",
   "execution_count": 91,
   "id": "a372d667-fac8-410a-ae5a-235b0e4d27ae",
   "metadata": {},
   "outputs": [
    {
     "name": "stdout",
     "output_type": "stream",
     "text": [
      "null values in df1 State_Name          0\n",
      "District_Name       0\n",
      "Crop_Year           0\n",
      "Season              0\n",
      "Crop                0\n",
      "Area                0\n",
      "Production       3730\n",
      "dtype: int64\n"
     ]
    }
   ],
   "source": [
    "print(\"null values in df1\",df.isnull().sum())"
   ]
  },
  {
   "cell_type": "markdown",
   "id": "7126d5d8-08be-4bc7-a246-0855668e255e",
   "metadata": {},
   "source": [
    "#### df has null values , so replacing them with mean "
   ]
  },
  {
   "cell_type": "code",
   "execution_count": 92,
   "id": "c4a4c794-1931-4b02-9545-c2fa577fc8fb",
   "metadata": {},
   "outputs": [],
   "source": [
    "df.fillna(df[\"Production\"].mean(),inplace=True)"
   ]
  },
  {
   "cell_type": "markdown",
   "id": "a0118dbe-a308-441a-952e-c081d9036989",
   "metadata": {},
   "source": [
    "### find which crop is best in specific state using bar graph "
   ]
  },
  {
   "cell_type": "markdown",
   "id": "c9652c3c-9617-4e12-9a21-f8337f23dab7",
   "metadata": {},
   "source": [
    "#### craete a group to find maximum produce crop in every state #### craete a group to find maximum produce crop in every state"
   ]
  },
  {
   "cell_type": "code",
   "execution_count": 93,
   "id": "5773fa2d-94a2-4ebd-b7f7-89f6dd9a0a50",
   "metadata": {},
   "outputs": [],
   "source": [
    "grp=(df.groupby('State_Name').agg({'Production':'max'}))\n",
    "grp=grp.reset_index()"
   ]
  },
  {
   "cell_type": "markdown",
   "id": "fecf21ef-5035-4e9e-876f-576f72d8be9d",
   "metadata": {},
   "source": [
    "#### show which crop is mostly produce in state wise and also show production of every crop respectively "
   ]
  },
  {
   "cell_type": "code",
   "execution_count": 94,
   "id": "8a452779-adc6-4c9f-90d4-6b9a59c3f973",
   "metadata": {
    "tags": []
   },
   "outputs": [
    {
     "name": "stdout",
     "output_type": "stream",
     "text": [
      "Most pruduce crop in state wise with production\n",
      "\n"
     ]
    },
    {
     "data": {
      "text/html": [
       "<div>\n",
       "<style scoped>\n",
       "    .dataframe tbody tr th:only-of-type {\n",
       "        vertical-align: middle;\n",
       "    }\n",
       "\n",
       "    .dataframe tbody tr th {\n",
       "        vertical-align: top;\n",
       "    }\n",
       "\n",
       "    .dataframe thead th {\n",
       "        text-align: right;\n",
       "    }\n",
       "</style>\n",
       "<table border=\"1\" class=\"dataframe\">\n",
       "  <thead>\n",
       "    <tr style=\"text-align: right;\">\n",
       "      <th></th>\n",
       "      <th>State_Name</th>\n",
       "      <th>Most_produce_crop</th>\n",
       "      <th>Production</th>\n",
       "    </tr>\n",
       "  </thead>\n",
       "  <tbody>\n",
       "    <tr>\n",
       "      <th>77</th>\n",
       "      <td>Andaman and Nicobar Islands</td>\n",
       "      <td>Coconut</td>\n",
       "      <td>7.130000e+07</td>\n",
       "    </tr>\n",
       "    <tr>\n",
       "      <th>2543</th>\n",
       "      <td>Andhra Pradesh</td>\n",
       "      <td>Coconut</td>\n",
       "      <td>7.801620e+08</td>\n",
       "    </tr>\n",
       "    <tr>\n",
       "      <th>11285</th>\n",
       "      <td>Arunachal Pradesh</td>\n",
       "      <td>Turmeric</td>\n",
       "      <td>5.825034e+05</td>\n",
       "    </tr>\n",
       "    <tr>\n",
       "      <th>23827</th>\n",
       "      <td>Assam</td>\n",
       "      <td>Coconut</td>\n",
       "      <td>6.071900e+07</td>\n",
       "    </tr>\n",
       "    <tr>\n",
       "      <th>39340</th>\n",
       "      <td>Bihar</td>\n",
       "      <td>Sugarcane</td>\n",
       "      <td>9.614539e+06</td>\n",
       "    </tr>\n",
       "    <tr>\n",
       "      <th>...</th>\n",
       "      <td>...</td>\n",
       "      <td>...</td>\n",
       "      <td>...</td>\n",
       "    </tr>\n",
       "    <tr>\n",
       "      <th>192700</th>\n",
       "      <td>Telangana</td>\n",
       "      <td>Coconut</td>\n",
       "      <td>1.193314e+07</td>\n",
       "    </tr>\n",
       "    <tr>\n",
       "      <th>198203</th>\n",
       "      <td>Tripura</td>\n",
       "      <td>Rice</td>\n",
       "      <td>2.825780e+05</td>\n",
       "    </tr>\n",
       "    <tr>\n",
       "      <th>218796</th>\n",
       "      <td>Uttar Pradesh</td>\n",
       "      <td>Sugarcane</td>\n",
       "      <td>1.775796e+07</td>\n",
       "    </tr>\n",
       "    <tr>\n",
       "      <th>233684</th>\n",
       "      <td>Uttarakhand</td>\n",
       "      <td>Sugarcane</td>\n",
       "      <td>4.630801e+06</td>\n",
       "    </tr>\n",
       "    <tr>\n",
       "      <th>236732</th>\n",
       "      <td>West Bengal</td>\n",
       "      <td>Coconut</td>\n",
       "      <td>7.509500e+07</td>\n",
       "    </tr>\n",
       "  </tbody>\n",
       "</table>\n",
       "<p>74 rows × 3 columns</p>\n",
       "</div>"
      ],
      "text/plain": [
       "                         State_Name Most_produce_crop    Production\n",
       "77      Andaman and Nicobar Islands          Coconut   7.130000e+07\n",
       "2543                 Andhra Pradesh          Coconut   7.801620e+08\n",
       "11285             Arunachal Pradesh          Turmeric  5.825034e+05\n",
       "23827                         Assam          Coconut   6.071900e+07\n",
       "39340                         Bihar         Sugarcane  9.614539e+06\n",
       "...                             ...               ...           ...\n",
       "192700                   Telangana           Coconut   1.193314e+07\n",
       "198203                      Tripura              Rice  2.825780e+05\n",
       "218796                Uttar Pradesh         Sugarcane  1.775796e+07\n",
       "233684                  Uttarakhand         Sugarcane  4.630801e+06\n",
       "236732                  West Bengal          Coconut   7.509500e+07\n",
       "\n",
       "[74 rows x 3 columns]"
      ]
     },
     "execution_count": 94,
     "metadata": {},
     "output_type": "execute_result"
    }
   ],
   "source": [
    "print(\"Most pruduce crop in state wise with production\\n\")\n",
    "crop1=pd.DataFrame(columns=['State_Name','Most_produce_crop','Production'])\n",
    "crop=pd.DataFrame()\n",
    "for i in grp.State_Name:\n",
    "    ind=(np.where(grp.State_Name==i)[0])[0]\n",
    "    crop=df[(df.State_Name==grp.State_Name[ind]) & (df.Production==grp.Production[ind]) ]\n",
    "    crop=crop.drop(['District_Name','Crop_Year','Season','Area'],axis=1)\n",
    "    crop.columns=['State_Name','Most_produce_crop','Production']\n",
    "    crop1=pd.concat([crop1,crop],axis=0)\n",
    "crop1"
   ]
  },
  {
   "cell_type": "code",
   "execution_count": 95,
   "id": "1d5075e6-d54b-4cff-9a3a-e2c07d0a393f",
   "metadata": {},
   "outputs": [],
   "source": [
    "crop1.reset_index(drop=True, inplace=True)"
   ]
  },
  {
   "cell_type": "code",
   "execution_count": 96,
   "id": "d791ea8a-0e58-492b-bc0b-b88e048938c1",
   "metadata": {
    "tags": []
   },
   "outputs": [
    {
     "data": {
      "text/html": [
       "<div>\n",
       "<style scoped>\n",
       "    .dataframe tbody tr th:only-of-type {\n",
       "        vertical-align: middle;\n",
       "    }\n",
       "\n",
       "    .dataframe tbody tr th {\n",
       "        vertical-align: top;\n",
       "    }\n",
       "\n",
       "    .dataframe thead th {\n",
       "        text-align: right;\n",
       "    }\n",
       "</style>\n",
       "<table border=\"1\" class=\"dataframe\">\n",
       "  <thead>\n",
       "    <tr style=\"text-align: right;\">\n",
       "      <th></th>\n",
       "      <th>State_Name</th>\n",
       "      <th>Most_produce_crop</th>\n",
       "      <th>Production</th>\n",
       "    </tr>\n",
       "  </thead>\n",
       "  <tbody>\n",
       "    <tr>\n",
       "      <th>0</th>\n",
       "      <td>Andaman and Nicobar Islands</td>\n",
       "      <td>Coconut</td>\n",
       "      <td>7.130000e+07</td>\n",
       "    </tr>\n",
       "    <tr>\n",
       "      <th>1</th>\n",
       "      <td>Andhra Pradesh</td>\n",
       "      <td>Coconut</td>\n",
       "      <td>7.801620e+08</td>\n",
       "    </tr>\n",
       "    <tr>\n",
       "      <th>2</th>\n",
       "      <td>Arunachal Pradesh</td>\n",
       "      <td>Turmeric</td>\n",
       "      <td>5.825034e+05</td>\n",
       "    </tr>\n",
       "    <tr>\n",
       "      <th>3</th>\n",
       "      <td>Assam</td>\n",
       "      <td>Coconut</td>\n",
       "      <td>6.071900e+07</td>\n",
       "    </tr>\n",
       "    <tr>\n",
       "      <th>4</th>\n",
       "      <td>Bihar</td>\n",
       "      <td>Sugarcane</td>\n",
       "      <td>9.614539e+06</td>\n",
       "    </tr>\n",
       "    <tr>\n",
       "      <th>...</th>\n",
       "      <td>...</td>\n",
       "      <td>...</td>\n",
       "      <td>...</td>\n",
       "    </tr>\n",
       "    <tr>\n",
       "      <th>69</th>\n",
       "      <td>Telangana</td>\n",
       "      <td>Coconut</td>\n",
       "      <td>1.193314e+07</td>\n",
       "    </tr>\n",
       "    <tr>\n",
       "      <th>70</th>\n",
       "      <td>Tripura</td>\n",
       "      <td>Rice</td>\n",
       "      <td>2.825780e+05</td>\n",
       "    </tr>\n",
       "    <tr>\n",
       "      <th>71</th>\n",
       "      <td>Uttar Pradesh</td>\n",
       "      <td>Sugarcane</td>\n",
       "      <td>1.775796e+07</td>\n",
       "    </tr>\n",
       "    <tr>\n",
       "      <th>72</th>\n",
       "      <td>Uttarakhand</td>\n",
       "      <td>Sugarcane</td>\n",
       "      <td>4.630801e+06</td>\n",
       "    </tr>\n",
       "    <tr>\n",
       "      <th>73</th>\n",
       "      <td>West Bengal</td>\n",
       "      <td>Coconut</td>\n",
       "      <td>7.509500e+07</td>\n",
       "    </tr>\n",
       "  </tbody>\n",
       "</table>\n",
       "<p>74 rows × 3 columns</p>\n",
       "</div>"
      ],
      "text/plain": [
       "                     State_Name Most_produce_crop    Production\n",
       "0   Andaman and Nicobar Islands          Coconut   7.130000e+07\n",
       "1                Andhra Pradesh          Coconut   7.801620e+08\n",
       "2             Arunachal Pradesh          Turmeric  5.825034e+05\n",
       "3                         Assam          Coconut   6.071900e+07\n",
       "4                         Bihar         Sugarcane  9.614539e+06\n",
       "..                          ...               ...           ...\n",
       "69                   Telangana           Coconut   1.193314e+07\n",
       "70                      Tripura              Rice  2.825780e+05\n",
       "71                Uttar Pradesh         Sugarcane  1.775796e+07\n",
       "72                  Uttarakhand         Sugarcane  4.630801e+06\n",
       "73                  West Bengal          Coconut   7.509500e+07\n",
       "\n",
       "[74 rows x 3 columns]"
      ]
     },
     "execution_count": 96,
     "metadata": {},
     "output_type": "execute_result"
    }
   ],
   "source": [
    "crop1"
   ]
  },
  {
   "cell_type": "code",
   "execution_count": 97,
   "id": "ccc9b460-bfc5-434f-be37-6fcc0a10da14",
   "metadata": {
    "tags": []
   },
   "outputs": [],
   "source": [
    "crop3=crop1\n",
    "for i in range(0,74):\n",
    "    crop=df[(df.State_Name==crop1.State_Name[i]) & (df.Crop==crop1.Most_produce_crop[i])]\n",
    "    crop2=crop.drop([\"District_Name\",\"Crop_Year\",\"Season\",\"Area\"],axis=1)\n",
    "    crop2.columns=[\"State_Name\",\"Most_produce_crop\",\"Production\"]\n",
    "    crop3=pd.concat([crop3,crop2])"
   ]
  },
  {
   "cell_type": "code",
   "execution_count": 98,
   "id": "74a9dea0-b8f6-43c7-b3a0-5daffb6082f9",
   "metadata": {
    "tags": []
   },
   "outputs": [],
   "source": [
    "crop3.reset_index(drop=True, inplace=True)"
   ]
  },
  {
   "cell_type": "code",
   "execution_count": 99,
   "id": "1c2f4d90-9316-4e54-9cac-b1d098fa6dc8",
   "metadata": {},
   "outputs": [],
   "source": [
    "crop4=crop3.copy()"
   ]
  },
  {
   "cell_type": "code",
   "execution_count": 100,
   "id": "dd49bf27-1cd5-43e4-a081-98beb7b4cb85",
   "metadata": {
    "tags": []
   },
   "outputs": [
    {
     "data": {
      "text/html": [
       "<div>\n",
       "<style scoped>\n",
       "    .dataframe tbody tr th:only-of-type {\n",
       "        vertical-align: middle;\n",
       "    }\n",
       "\n",
       "    .dataframe tbody tr th {\n",
       "        vertical-align: top;\n",
       "    }\n",
       "\n",
       "    .dataframe thead th {\n",
       "        text-align: right;\n",
       "    }\n",
       "</style>\n",
       "<table border=\"1\" class=\"dataframe\">\n",
       "  <thead>\n",
       "    <tr style=\"text-align: right;\">\n",
       "      <th></th>\n",
       "      <th>State_Name</th>\n",
       "      <th>Most_produce_crop</th>\n",
       "      <th>Production</th>\n",
       "    </tr>\n",
       "  </thead>\n",
       "  <tbody>\n",
       "    <tr>\n",
       "      <th>0</th>\n",
       "      <td>Andaman and Nicobar Islands</td>\n",
       "      <td>Coconut</td>\n",
       "      <td>7.130000e+07</td>\n",
       "    </tr>\n",
       "    <tr>\n",
       "      <th>1</th>\n",
       "      <td>Andhra Pradesh</td>\n",
       "      <td>Coconut</td>\n",
       "      <td>7.801620e+08</td>\n",
       "    </tr>\n",
       "    <tr>\n",
       "      <th>2</th>\n",
       "      <td>Arunachal Pradesh</td>\n",
       "      <td>Turmeric</td>\n",
       "      <td>5.825034e+05</td>\n",
       "    </tr>\n",
       "    <tr>\n",
       "      <th>3</th>\n",
       "      <td>Assam</td>\n",
       "      <td>Coconut</td>\n",
       "      <td>6.071900e+07</td>\n",
       "    </tr>\n",
       "    <tr>\n",
       "      <th>4</th>\n",
       "      <td>Bihar</td>\n",
       "      <td>Sugarcane</td>\n",
       "      <td>9.614539e+06</td>\n",
       "    </tr>\n",
       "    <tr>\n",
       "      <th>...</th>\n",
       "      <td>...</td>\n",
       "      <td>...</td>\n",
       "      <td>...</td>\n",
       "    </tr>\n",
       "    <tr>\n",
       "      <th>11403</th>\n",
       "      <td>West Bengal</td>\n",
       "      <td>Coconut</td>\n",
       "      <td>2.961000e+02</td>\n",
       "    </tr>\n",
       "    <tr>\n",
       "      <th>11404</th>\n",
       "      <td>West Bengal</td>\n",
       "      <td>Coconut</td>\n",
       "      <td>3.110000e+02</td>\n",
       "    </tr>\n",
       "    <tr>\n",
       "      <th>11405</th>\n",
       "      <td>West Bengal</td>\n",
       "      <td>Coconut</td>\n",
       "      <td>3.650000e+05</td>\n",
       "    </tr>\n",
       "    <tr>\n",
       "      <th>11406</th>\n",
       "      <td>West Bengal</td>\n",
       "      <td>Coconut</td>\n",
       "      <td>8.980000e+05</td>\n",
       "    </tr>\n",
       "    <tr>\n",
       "      <th>11407</th>\n",
       "      <td>West Bengal</td>\n",
       "      <td>Coconut</td>\n",
       "      <td>5.980000e+02</td>\n",
       "    </tr>\n",
       "  </tbody>\n",
       "</table>\n",
       "<p>11408 rows × 3 columns</p>\n",
       "</div>"
      ],
      "text/plain": [
       "                        State_Name Most_produce_crop    Production\n",
       "0      Andaman and Nicobar Islands          Coconut   7.130000e+07\n",
       "1                   Andhra Pradesh          Coconut   7.801620e+08\n",
       "2                Arunachal Pradesh          Turmeric  5.825034e+05\n",
       "3                            Assam          Coconut   6.071900e+07\n",
       "4                            Bihar         Sugarcane  9.614539e+06\n",
       "...                            ...               ...           ...\n",
       "11403                  West Bengal          Coconut   2.961000e+02\n",
       "11404                  West Bengal          Coconut   3.110000e+02\n",
       "11405                  West Bengal          Coconut   3.650000e+05\n",
       "11406                  West Bengal          Coconut   8.980000e+05\n",
       "11407                  West Bengal          Coconut   5.980000e+02\n",
       "\n",
       "[11408 rows x 3 columns]"
      ]
     },
     "execution_count": 100,
     "metadata": {},
     "output_type": "execute_result"
    }
   ],
   "source": [
    "crop3"
   ]
  },
  {
   "cell_type": "code",
   "execution_count": 101,
   "id": "f31355e9-ca60-4cc1-be13-2541fb4fde4f",
   "metadata": {},
   "outputs": [
    {
     "data": {
      "text/plain": [
       "array(['Andaman and Nicobar Islands', 'Andhra Pradesh',\n",
       "       'Arunachal Pradesh', 'Assam', 'Bihar', 'Chandigarh',\n",
       "       'Chhattisgarh', 'Dadra and Nagar Haveli', 'Goa', 'Gujarat',\n",
       "       'Haryana', 'Himachal Pradesh', 'Jammu and Kashmir ', 'Jharkhand',\n",
       "       'Karnataka', 'Kerala', 'Madhya Pradesh', 'Maharashtra', 'Manipur',\n",
       "       'Meghalaya', 'Mizoram', 'Nagaland', 'Odisha', 'Puducherry',\n",
       "       'Punjab', 'Rajasthan', 'Sikkim', 'Tamil Nadu', 'Telangana ',\n",
       "       'Tripura', 'Uttar Pradesh', 'Uttarakhand', 'West Bengal'],\n",
       "      dtype=object)"
      ]
     },
     "execution_count": 101,
     "metadata": {},
     "output_type": "execute_result"
    }
   ],
   "source": [
    "crop3.State_Name.unique()"
   ]
  },
  {
   "cell_type": "code",
   "execution_count": 102,
   "id": "aec86c0a-537a-44a1-b8e6-d58bc40bdba0",
   "metadata": {},
   "outputs": [
    {
     "data": {
      "text/plain": [
       "array(['Coconut ', 'Turmeric', 'Sugarcane', 'Arhar/Tur', 'Small millets',\n",
       "       'Other  Rabi pulses', 'Sweet potato', 'Cotton(lint)',\n",
       "       'Moong(Green Gram)', 'Peas & beans (Pulses)', 'Dry ginger',\n",
       "       'Coriander', 'Dry chillies', 'Sannhamp', 'Gram', 'Masoor',\n",
       "       'Horse-gram', 'Sesamum', 'Moth', 'Linseed', 'other oilseeds',\n",
       "       'Rice', 'Potato', 'Wheat', 'Maize'], dtype=object)"
      ]
     },
     "execution_count": 102,
     "metadata": {},
     "output_type": "execute_result"
    }
   ],
   "source": [
    "crop3.Most_produce_crop.unique()"
   ]
  },
  {
   "cell_type": "code",
   "execution_count": 103,
   "id": "a5e0d643-f9db-4d3f-985f-b6eef3079696",
   "metadata": {},
   "outputs": [],
   "source": [
    "state=['Andaman and Nicobar Islands', 'Andhra Pradesh',\n",
    "       'Arunachal Pradesh', 'Assam', 'Bihar', 'Chandigarh',\n",
    "       'Chhattisgarh', 'Dadra and Nagar Haveli', 'Goa', 'Gujarat',\n",
    "       'Haryana', 'Himachal Pradesh', 'Jammu and Kashmir ', 'Jharkhand',\n",
    "       'Karnataka', 'Kerala', 'Madhya Pradesh', 'Maharashtra', 'Manipur',\n",
    "       'Meghalaya', 'Mizoram', 'Nagaland', 'Odisha', 'Puducherry',\n",
    "       'Punjab', 'Rajasthan', 'Sikkim', 'Tamil Nadu', 'Telangana ',\n",
    "       'Tripura', 'Uttar Pradesh', 'Uttarakhand', 'West Bengal']\n",
    "\n",
    "crop=['Coconut ', 'Turmeric', 'Sugarcane', 'Arhar/Tur', 'Small millets',\n",
    "       'Other  Rabi pulses', 'Sweet potato', 'Cotton(lint)',\n",
    "       'Moong(Green Gram)', 'Peas & beans (Pulses)', 'Dry ginger',\n",
    "       'Coriander', 'Dry chillies', 'Sannhamp', 'Gram', 'Masoor',\n",
    "       'Horse-gram', 'Sesamum', 'Moth', 'Linseed', 'other oilseeds',\n",
    "       'Rice', 'Potato', 'Wheat', 'Maize']"
   ]
  },
  {
   "cell_type": "code",
   "execution_count": 104,
   "id": "cfb238b0-3432-4760-b5c5-dc69f0d776ef",
   "metadata": {},
   "outputs": [],
   "source": [
    "for i in range(0,len(state)):\n",
    "    crop3.replace(state[i],i,inplace=True)\n",
    "\n",
    "for i in range(0,len(crop)):\n",
    "    crop3.replace(crop[i],i,inplace=True)"
   ]
  },
  {
   "cell_type": "code",
   "execution_count": 55,
   "id": "9123bbfb-4098-4e38-b368-dbc15c57e025",
   "metadata": {},
   "outputs": [],
   "source": [
    "from sklearn.preprocessing import LabelEncoder\n",
    "le = LabelEncoder()"
   ]
  },
  {
   "cell_type": "code",
   "execution_count": 70,
   "id": "c03e4ced-2b29-4fa0-9c50-833c7d8860e0",
   "metadata": {
    "tags": []
   },
   "outputs": [
    {
     "data": {
      "text/html": [
       "<div>\n",
       "<style scoped>\n",
       "    .dataframe tbody tr th:only-of-type {\n",
       "        vertical-align: middle;\n",
       "    }\n",
       "\n",
       "    .dataframe tbody tr th {\n",
       "        vertical-align: top;\n",
       "    }\n",
       "\n",
       "    .dataframe thead th {\n",
       "        text-align: right;\n",
       "    }\n",
       "</style>\n",
       "<table border=\"1\" class=\"dataframe\">\n",
       "  <thead>\n",
       "    <tr style=\"text-align: right;\">\n",
       "      <th></th>\n",
       "      <th>State_Name</th>\n",
       "      <th>Most_produce_crop</th>\n",
       "      <th>Production</th>\n",
       "    </tr>\n",
       "  </thead>\n",
       "  <tbody>\n",
       "    <tr>\n",
       "      <th>0</th>\n",
       "      <td>0</td>\n",
       "      <td>1</td>\n",
       "      <td>7.130000e+07</td>\n",
       "    </tr>\n",
       "    <tr>\n",
       "      <th>1</th>\n",
       "      <td>1</td>\n",
       "      <td>1</td>\n",
       "      <td>7.801620e+08</td>\n",
       "    </tr>\n",
       "    <tr>\n",
       "      <th>2</th>\n",
       "      <td>2</td>\n",
       "      <td>22</td>\n",
       "      <td>5.825034e+05</td>\n",
       "    </tr>\n",
       "    <tr>\n",
       "      <th>3</th>\n",
       "      <td>3</td>\n",
       "      <td>1</td>\n",
       "      <td>6.071900e+07</td>\n",
       "    </tr>\n",
       "    <tr>\n",
       "      <th>4</th>\n",
       "      <td>4</td>\n",
       "      <td>20</td>\n",
       "      <td>9.614539e+06</td>\n",
       "    </tr>\n",
       "    <tr>\n",
       "      <th>...</th>\n",
       "      <td>...</td>\n",
       "      <td>...</td>\n",
       "      <td>...</td>\n",
       "    </tr>\n",
       "    <tr>\n",
       "      <th>11403</th>\n",
       "      <td>32</td>\n",
       "      <td>1</td>\n",
       "      <td>2.961000e+02</td>\n",
       "    </tr>\n",
       "    <tr>\n",
       "      <th>11404</th>\n",
       "      <td>32</td>\n",
       "      <td>1</td>\n",
       "      <td>3.110000e+02</td>\n",
       "    </tr>\n",
       "    <tr>\n",
       "      <th>11405</th>\n",
       "      <td>32</td>\n",
       "      <td>1</td>\n",
       "      <td>3.650000e+05</td>\n",
       "    </tr>\n",
       "    <tr>\n",
       "      <th>11406</th>\n",
       "      <td>32</td>\n",
       "      <td>1</td>\n",
       "      <td>8.980000e+05</td>\n",
       "    </tr>\n",
       "    <tr>\n",
       "      <th>11407</th>\n",
       "      <td>32</td>\n",
       "      <td>1</td>\n",
       "      <td>5.980000e+02</td>\n",
       "    </tr>\n",
       "  </tbody>\n",
       "</table>\n",
       "<p>11408 rows × 3 columns</p>\n",
       "</div>"
      ],
      "text/plain": [
       "       State_Name  Most_produce_crop    Production\n",
       "0               0                  1  7.130000e+07\n",
       "1               1                  1  7.801620e+08\n",
       "2               2                 22  5.825034e+05\n",
       "3               3                  1  6.071900e+07\n",
       "4               4                 20  9.614539e+06\n",
       "...           ...                ...           ...\n",
       "11403          32                  1  2.961000e+02\n",
       "11404          32                  1  3.110000e+02\n",
       "11405          32                  1  3.650000e+05\n",
       "11406          32                  1  8.980000e+05\n",
       "11407          32                  1  5.980000e+02\n",
       "\n",
       "[11408 rows x 3 columns]"
      ]
     },
     "execution_count": 70,
     "metadata": {},
     "output_type": "execute_result"
    }
   ],
   "source": [
    "crop3['Most_produce_crop'] = le.fit_transform(crop3['Most_produce_crop'])\n",
    "crop3['State_Name'] = le.fit_transform(crop3['State_Name'])\n",
    "crop3"
   ]
  },
  {
   "cell_type": "code",
   "execution_count": 106,
   "id": "8ac4c3ce-b56f-47e3-9ad0-e96a54c506e2",
   "metadata": {},
   "outputs": [
    {
     "name": "stdout",
     "output_type": "stream",
     "text": [
      "x_train : (11406, 1)\n",
      "x_test : (2, 1)\n",
      "y_train : (11406,)\n",
      "y_test : (2,)\n"
     ]
    }
   ],
   "source": [
    "x = crop3[['State_Name']]\n",
    "y = crop3[\"Most_produce_crop\"]\n",
    "x_train,x_test,y_train,y_test = train_test_split(x,y,test_size=0.0001, random_state=42)\n",
    "print(\"x_train :\",x_train.shape)\n",
    "print(\"x_test :\",x_test.shape)\n",
    "print(\"y_train :\",y_train.shape)\n",
    "print(\"y_test :\",y_test.shape)"
   ]
  },
  {
   "cell_type": "code",
   "execution_count": 107,
   "id": "12247534-b2df-4c7f-bc26-2df1ab6adf24",
   "metadata": {},
   "outputs": [],
   "source": [
    "model = RandomForestRegressor()"
   ]
  },
  {
   "cell_type": "code",
   "execution_count": 108,
   "id": "8b52b8b2-5bff-48ad-9f85-57f12997ab28",
   "metadata": {},
   "outputs": [
    {
     "data": {
      "text/html": [
       "<style>#sk-container-id-4 {color: black;background-color: white;}#sk-container-id-4 pre{padding: 0;}#sk-container-id-4 div.sk-toggleable {background-color: white;}#sk-container-id-4 label.sk-toggleable__label {cursor: pointer;display: block;width: 100%;margin-bottom: 0;padding: 0.3em;box-sizing: border-box;text-align: center;}#sk-container-id-4 label.sk-toggleable__label-arrow:before {content: \"▸\";float: left;margin-right: 0.25em;color: #696969;}#sk-container-id-4 label.sk-toggleable__label-arrow:hover:before {color: black;}#sk-container-id-4 div.sk-estimator:hover label.sk-toggleable__label-arrow:before {color: black;}#sk-container-id-4 div.sk-toggleable__content {max-height: 0;max-width: 0;overflow: hidden;text-align: left;background-color: #f0f8ff;}#sk-container-id-4 div.sk-toggleable__content pre {margin: 0.2em;color: black;border-radius: 0.25em;background-color: #f0f8ff;}#sk-container-id-4 input.sk-toggleable__control:checked~div.sk-toggleable__content {max-height: 200px;max-width: 100%;overflow: auto;}#sk-container-id-4 input.sk-toggleable__control:checked~label.sk-toggleable__label-arrow:before {content: \"▾\";}#sk-container-id-4 div.sk-estimator input.sk-toggleable__control:checked~label.sk-toggleable__label {background-color: #d4ebff;}#sk-container-id-4 div.sk-label input.sk-toggleable__control:checked~label.sk-toggleable__label {background-color: #d4ebff;}#sk-container-id-4 input.sk-hidden--visually {border: 0;clip: rect(1px 1px 1px 1px);clip: rect(1px, 1px, 1px, 1px);height: 1px;margin: -1px;overflow: hidden;padding: 0;position: absolute;width: 1px;}#sk-container-id-4 div.sk-estimator {font-family: monospace;background-color: #f0f8ff;border: 1px dotted black;border-radius: 0.25em;box-sizing: border-box;margin-bottom: 0.5em;}#sk-container-id-4 div.sk-estimator:hover {background-color: #d4ebff;}#sk-container-id-4 div.sk-parallel-item::after {content: \"\";width: 100%;border-bottom: 1px solid gray;flex-grow: 1;}#sk-container-id-4 div.sk-label:hover label.sk-toggleable__label {background-color: #d4ebff;}#sk-container-id-4 div.sk-serial::before {content: \"\";position: absolute;border-left: 1px solid gray;box-sizing: border-box;top: 0;bottom: 0;left: 50%;z-index: 0;}#sk-container-id-4 div.sk-serial {display: flex;flex-direction: column;align-items: center;background-color: white;padding-right: 0.2em;padding-left: 0.2em;position: relative;}#sk-container-id-4 div.sk-item {position: relative;z-index: 1;}#sk-container-id-4 div.sk-parallel {display: flex;align-items: stretch;justify-content: center;background-color: white;position: relative;}#sk-container-id-4 div.sk-item::before, #sk-container-id-4 div.sk-parallel-item::before {content: \"\";position: absolute;border-left: 1px solid gray;box-sizing: border-box;top: 0;bottom: 0;left: 50%;z-index: -1;}#sk-container-id-4 div.sk-parallel-item {display: flex;flex-direction: column;z-index: 1;position: relative;background-color: white;}#sk-container-id-4 div.sk-parallel-item:first-child::after {align-self: flex-end;width: 50%;}#sk-container-id-4 div.sk-parallel-item:last-child::after {align-self: flex-start;width: 50%;}#sk-container-id-4 div.sk-parallel-item:only-child::after {width: 0;}#sk-container-id-4 div.sk-dashed-wrapped {border: 1px dashed gray;margin: 0 0.4em 0.5em 0.4em;box-sizing: border-box;padding-bottom: 0.4em;background-color: white;}#sk-container-id-4 div.sk-label label {font-family: monospace;font-weight: bold;display: inline-block;line-height: 1.2em;}#sk-container-id-4 div.sk-label-container {text-align: center;}#sk-container-id-4 div.sk-container {/* jupyter's `normalize.less` sets `[hidden] { display: none; }` but bootstrap.min.css set `[hidden] { display: none !important; }` so we also need the `!important` here to be able to override the default hidden behavior on the sphinx rendered scikit-learn.org. See: https://github.com/scikit-learn/scikit-learn/issues/21755 */display: inline-block !important;position: relative;}#sk-container-id-4 div.sk-text-repr-fallback {display: none;}</style><div id=\"sk-container-id-4\" class=\"sk-top-container\"><div class=\"sk-text-repr-fallback\"><pre>RandomForestRegressor()</pre><b>In a Jupyter environment, please rerun this cell to show the HTML representation or trust the notebook. <br />On GitHub, the HTML representation is unable to render, please try loading this page with nbviewer.org.</b></div><div class=\"sk-container\" hidden><div class=\"sk-item\"><div class=\"sk-estimator sk-toggleable\"><input class=\"sk-toggleable__control sk-hidden--visually\" id=\"sk-estimator-id-4\" type=\"checkbox\" checked><label for=\"sk-estimator-id-4\" class=\"sk-toggleable__label sk-toggleable__label-arrow\">RandomForestRegressor</label><div class=\"sk-toggleable__content\"><pre>RandomForestRegressor()</pre></div></div></div></div></div>"
      ],
      "text/plain": [
       "RandomForestRegressor()"
      ]
     },
     "execution_count": 108,
     "metadata": {},
     "output_type": "execute_result"
    }
   ],
   "source": [
    "model.fit(x,y)"
   ]
  },
  {
   "cell_type": "code",
   "execution_count": 119,
   "id": "8e65983c-6785-42ce-aab3-102a290bf5d1",
   "metadata": {},
   "outputs": [],
   "source": [
    "preds = model.predict(x)"
   ]
  },
  {
   "cell_type": "code",
   "execution_count": 120,
   "id": "e4ec4668-2b40-4fc3-adc7-b5386a08f098",
   "metadata": {
    "tags": []
   },
   "outputs": [
    {
     "name": "stdout",
     "output_type": "stream",
     "text": [
      "R2score when we predict using Randomn forest is  92.62560710208302\n"
     ]
    }
   ],
   "source": [
    "from sklearn.metrics import r2_score\n",
    "r = r2_score(y,(preds))\n",
    "print(\"R2score when we predict using Randomn forest is \",r*100)"
   ]
  },
  {
   "cell_type": "markdown",
   "id": "120cbeb4-ce4d-48b3-aac5-a44183560bf7",
   "metadata": {},
   "source": [
    "### create pkl file to deploy model "
   ]
  },
  {
   "cell_type": "code",
   "execution_count": 121,
   "id": "48bc31bf-e586-439d-9fc6-d5713aaf294b",
   "metadata": {},
   "outputs": [],
   "source": [
    "import pickle as pkl"
   ]
  },
  {
   "cell_type": "code",
   "execution_count": 122,
   "id": "592499b8-fc69-4544-9659-f35e5bff7bc0",
   "metadata": {},
   "outputs": [],
   "source": [
    "RF_pkl_filename = 'state.pkl'\n",
    "RF_Model_pkl = open(RF_pkl_filename, 'wb')\n",
    "pkl.dump(model, RF_Model_pkl)\n",
    "RF_Model_pkl.close()"
   ]
  },
  {
   "cell_type": "code",
   "execution_count": null,
   "id": "213942a9-2c53-48a9-bb27-b2d9c3232b23",
   "metadata": {},
   "outputs": [],
   "source": []
  }
 ],
 "metadata": {
  "kernelspec": {
   "display_name": "Python 3 (ipykernel)",
   "language": "python",
   "name": "python3"
  },
  "language_info": {
   "codemirror_mode": {
    "name": "ipython",
    "version": 3
   },
   "file_extension": ".py",
   "mimetype": "text/x-python",
   "name": "python",
   "nbconvert_exporter": "python",
   "pygments_lexer": "ipython3",
   "version": "3.9.12"
  }
 },
 "nbformat": 4,
 "nbformat_minor": 5
}
